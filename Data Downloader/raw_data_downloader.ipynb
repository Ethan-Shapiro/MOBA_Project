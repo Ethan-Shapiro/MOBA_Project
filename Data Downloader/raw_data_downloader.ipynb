{
 "cells": [
  {
   "attachments": {},
   "cell_type": "markdown",
   "metadata": {},
   "source": [
    "## Data Downloader\n",
    "This notebook/py file can be ran to download **NEW** clash league of legend match data using the previously collected summoner IDs which we know to have played clash at some point."
   ]
  },
  {
   "cell_type": "code",
   "execution_count": null,
   "metadata": {},
   "outputs": [],
   "source": []
  }
 ],
 "metadata": {
  "language_info": {
   "name": "python"
  },
  "orig_nbformat": 4
 },
 "nbformat": 4,
 "nbformat_minor": 2
}
