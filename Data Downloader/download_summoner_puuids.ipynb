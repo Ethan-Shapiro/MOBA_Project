{
 "cells": [
  {
   "cell_type": "code",
   "execution_count": 1,
   "metadata": {},
   "outputs": [],
   "source": [
    "# IMPORTS\n",
    "import requests\n",
    "import numpy as np\n",
    "import time\n",
    "import pandas as pd\n",
    "import os\n",
    "import datetime\n",
    "from io import TextIOWrapper\n",
    "from fastparquet import write\n",
    "from pandas import DataFrame\n",
    "from riotwatcher import LolWatcher, ApiError\n",
    "from pynput import keyboard"
   ]
  },
  {
   "cell_type": "code",
   "execution_count": 13,
   "metadata": {},
   "outputs": [],
   "source": [
    "API_KEY = os.getenv('RIOT_API_KEY')\n",
    "EXPECTED_SUMMONERS_OUT = 205\n",
    "API_KEY = 'RGAPI-689febf4-74b2-4267-bdc5-39e1e8d6a3fe'\n",
    "lol_watcher = LolWatcher(API_KEY)"
   ]
  },
  {
   "cell_type": "code",
   "execution_count": 14,
   "metadata": {},
   "outputs": [],
   "source": [
    "def get_summoner_puuids(region: str, summonerID: str) -> tuple[dict, bool]:\n",
    "    \"\"\"\n",
    "    Gets random summoner ids from North America from the various ranks (Diamond:Platinum:Gold:Silver:Bronze)\n",
    "    Returns a pandas dictionary only with summoner ids that have wins + losses >= 20\n",
    "    Args:\n",
    "        region (str): The region we want to search in\n",
    "        rank (str): The rank we want to get from\n",
    "        division (str): The divions we want to get from\n",
    "        num_pages (int, optional): An amount of summoner ids to get, a group of 204 are a 'page'. Defaults to 4.\n",
    "\n",
    "    Returns:\n",
    "        bool: Whether getting the summoner ids was successful\n",
    "    \"\"\"\n",
    "    print(f\"Current summonerID: {summonerID}\")\n",
    "    try:\n",
    "        # attempt to get a response\n",
    "        response = lol_watcher.summoner.by_id(region, summonerID)\n",
    "\n",
    "    except ApiError as err:\n",
    "        print(err)\n",
    "        print(f'Failed at summonerID: {summonerID}')\n",
    "        return {}, False\n",
    "\n",
    "    return response, True"
   ]
  },
  {
   "cell_type": "code",
   "execution_count": 19,
   "metadata": {},
   "outputs": [
    {
     "data": {
      "text/html": [
       "<div>\n",
       "<style scoped>\n",
       "    .dataframe tbody tr th:only-of-type {\n",
       "        vertical-align: middle;\n",
       "    }\n",
       "\n",
       "    .dataframe tbody tr th {\n",
       "        vertical-align: top;\n",
       "    }\n",
       "\n",
       "    .dataframe thead th {\n",
       "        text-align: right;\n",
       "    }\n",
       "</style>\n",
       "<table border=\"1\" class=\"dataframe\">\n",
       "  <thead>\n",
       "    <tr style=\"text-align: right;\">\n",
       "      <th></th>\n",
       "      <th>summonerId</th>\n",
       "    </tr>\n",
       "  </thead>\n",
       "  <tbody>\n",
       "    <tr>\n",
       "      <th>0</th>\n",
       "      <td>osaWvUyXpyvI3z43AQYT48115IaJoEqSidOzO1_RSnMZIo...</td>\n",
       "    </tr>\n",
       "  </tbody>\n",
       "</table>\n",
       "</div>"
      ],
      "text/plain": [
       "                                          summonerId\n",
       "0  osaWvUyXpyvI3z43AQYT48115IaJoEqSidOzO1_RSnMZIo..."
      ]
     },
     "execution_count": 19,
     "metadata": {},
     "output_type": "execute_result"
    }
   ],
   "source": [
    "df = pd.read_parquet('C://Repository//MOBA_Project//data//summoner//na1//summoner_data_DIAMOND_I.parquet', columns=['summonerId'])\n",
    "df.head(1)"
   ]
  },
  {
   "cell_type": "code",
   "execution_count": 15,
   "metadata": {},
   "outputs": [
    {
     "name": "stdout",
     "output_type": "stream",
     "text": [
      "Current summonerID: 8SBxljXgaK9FIFbAqUovfh0KQCjYkkc5GUeDqEQyqbqCXlQ\n"
     ]
    },
    {
     "data": {
      "text/plain": [
       "({'id': '8SBxljXgaK9FIFbAqUovfh0KQCjYkkc5GUeDqEQyqbqCXlQ',\n",
       "  'accountId': 'VNsJPfGDBIhoo60pdQ1Iakxt3CrQhEhj3xb4LN945dBwMUoV9B0HPQRG',\n",
       "  'puuid': '2SqIeHAe8wUjOYq5QBSFeafSRiyCWqweM9u1537AE51tmKwiKphpgYX5OIR8a2Du-AUh3bKnUYUmUQ',\n",
       "  'name': 'Mei You Qing Xu',\n",
       "  'profileIconId': 4057,\n",
       "  'revisionDate': 1683178815000,\n",
       "  'summonerLevel': 733},\n",
       " True)"
      ]
     },
     "execution_count": 15,
     "metadata": {},
     "output_type": "execute_result"
    }
   ],
   "source": [
    "regions = ['na1']\n",
    "ranks = ['DIAMOND', 'PLATINUM']\n",
    "tiers = ['I', 'II', 'III', 'IV']\n",
    "SUMMONER_DATA_FP = 'C://Repository//MOBA_Project//data//summoner//'\n",
    "s = []\n",
    "# Read the summonerIDs for the region\n",
    "for region in regions:\n",
    "    for rank in ranks:\n",
    "        for tier in tiers:\n",
    "            # read the summoner dataframe for the given region\n",
    "            file_name = f'{region}//summoner_data_{rank}_{tier}.parquet'\n",
    "            complete_fp = SUMMONER_DATA_FP + file_name\n",
    "\n",
    "            summoners = df = pd.read_parquet(complete_fp, columns=['summonerId'])\n",
    "            res, success = get_summoner_puuids('na1', '8SBxljXgaK9FIFbAqUovfh0KQCjYkkc5GUeDqEQyqbqCXlQ')"
   ]
  },
  {
   "cell_type": "code",
   "execution_count": null,
   "metadata": {},
   "outputs": [],
   "source": []
  }
 ],
 "metadata": {
  "kernelspec": {
   "display_name": "env",
   "language": "python",
   "name": "python3"
  },
  "language_info": {
   "codemirror_mode": {
    "name": "ipython",
    "version": 3
   },
   "file_extension": ".py",
   "mimetype": "text/x-python",
   "name": "python",
   "nbconvert_exporter": "python",
   "pygments_lexer": "ipython3",
   "version": "3.10.1"
  },
  "orig_nbformat": 4
 },
 "nbformat": 4,
 "nbformat_minor": 2
}
