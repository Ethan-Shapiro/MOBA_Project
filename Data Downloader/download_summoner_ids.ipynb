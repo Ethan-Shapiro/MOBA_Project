{
 "cells": [
  {
   "attachments": {},
   "cell_type": "markdown",
   "metadata": {},
   "source": [
    "This notebook downloads summoner IDs for a given rank, division, and region."
   ]
  },
  {
   "cell_type": "code",
   "execution_count": 1,
   "metadata": {},
   "outputs": [],
   "source": [
    "# IMPORTS\n",
    "import requests\n",
    "import numpy as np\n",
    "import time\n",
    "import pandas as pd\n",
    "import os\n",
    "import datetime\n",
    "from io import TextIOWrapper\n",
    "from fastparquet import write\n",
    "from pandas import DataFrame\n",
    "from riotwatcher import LolWatcher, ApiError\n",
    "from pynput import keyboard"
   ]
  },
  {
   "cell_type": "code",
   "execution_count": 2,
   "metadata": {},
   "outputs": [],
   "source": [
    "API_KEY = os.getenv('RIOT_API_KEY')\n",
    "EXPECTED_SUMMONERS_OUT = 205\n",
    "API_KEY = 'RGAPI-614f434b-c4cc-4799-9af2-08ff81844f61'\n",
    "lol_watcher = LolWatcher(API_KEY)"
   ]
  },
  {
   "cell_type": "code",
   "execution_count": 3,
   "metadata": {},
   "outputs": [],
   "source": [
    "def get_summoner_ids(region: str, rank: str, division: str, start_page: int, num_pages=4) -> tuple[DataFrame, bool]:\n",
    "    \"\"\"\n",
    "    Gets random summoner ids from North America from the various ranks (Diamond:Platinum:Gold:Silver:Bronze)\n",
    "    Returns a pandas dictionary only with summoner ids that have wins + losses >= 20\n",
    "    Args:\n",
    "        region (str): The region we want to search in\n",
    "        rank (str): The rank we want to get from\n",
    "        division (str): The divions we want to get from\n",
    "        num_pages (int, optional): An amount of summoner ids to get, a group of 204 are a 'page'. Defaults to 4.\n",
    "\n",
    "    Returns:\n",
    "        bool: Whether getting the summoner ids was successful\n",
    "    \"\"\"\n",
    "    print(f\"Current rank {rank} {division}\")\n",
    "    df = pd.DataFrame(columns=['leagueId',\n",
    "                               'queueType',\n",
    "                               'tier',\n",
    "                               'rank',\n",
    "                               'summonerId',\n",
    "                               'summonerName',\n",
    "                               'leaguePoints',\n",
    "                               'wins',\n",
    "                               'losses',\n",
    "                               'veteran',\n",
    "                               'inactive',\n",
    "                               'freshBlood',\n",
    "                               'hotStreak'])\n",
    "    more_summoners = True\n",
    "    for page_num in range(start_page, start_page+num_pages+1):\n",
    "        try:\n",
    "            # attempt to get a response\n",
    "            response = lol_watcher.league.entries(region, 'RANKED_SOLO_5x5', rank, division, page_num)\n",
    "\n",
    "            # if we don't get the expected number of summoners, we have probably reached the end of the catalog\n",
    "            # in another way, there are no more players in the rank and divison to get \n",
    "            if len(response) < EXPECTED_SUMMONERS_OUT:\n",
    "                more_summoners = False\n",
    "                \n",
    "            for summoner in response:\n",
    "                # We only take people with greater than or equal to 20 combined wins and losses\n",
    "                if summoner['wins'] + summoner['losses'] >= 20:\n",
    "                    df = pd.concat([df, pd.DataFrame.from_records(summoner, index=[0])], ignore_index=True)\n",
    "        except ApiError as err:\n",
    "            print(err)\n",
    "            print(f'Failed at page number: {page_num}\\nFailed at rank and division: {rank} {division}')\n",
    "            return df, False\n",
    "\n",
    "    return df, more_summoners"
   ]
  },
  {
   "cell_type": "code",
   "execution_count": 4,
   "metadata": {},
   "outputs": [],
   "source": [
    "def write_to_parquet(df: DataFrame) -> str:\n",
    "    DIRECTORY_PATH = '/Users/ethanshapiro/Repository/MOBA Recommender and Prediction/data/raw_data/'\n",
    "    date_str = str(datetime.datetime.today()).split()[0]\n",
    "    file_name = f'summoner_data_{df.loc[0, \"tier\"]}_{df.loc[0, \"rank\"]}.parquet'\n",
    "    file_path = DIRECTORY_PATH + file_name\n",
    "    # create the parquet if it doesn't exist\n",
    "    if not os.path.isfile(file_path):\n",
    "        print(f'Creating {file_name}')\n",
    "        write(file_path, df)\n",
    "    else:\n",
    "        \n",
    "        print(f'Appending to {file_name}')\n",
    "        write(file_path, df, append=True)\n",
    "    return file_path"
   ]
  },
  {
   "cell_type": "code",
   "execution_count": 5,
   "metadata": {},
   "outputs": [],
   "source": [
    "# Flag to check if the user wants to stop the code\n",
    "stop_flag = False\n",
    "\n",
    "# Function to handle the key press event\n",
    "def on_press(key):\n",
    "    global stop_flag\n",
    "    try:\n",
    "        if key.char == 'q':\n",
    "            stop_flag = True\n",
    "            # Stop listening for further key presses\n",
    "            return False\n",
    "    except AttributeError:\n",
    "        pass"
   ]
  },
  {
   "cell_type": "code",
   "execution_count": 6,
   "metadata": {},
   "outputs": [],
   "source": [
    "regions = ['na1']\n",
    "ranks = ['DIAMOND', 'PLATINUM']\n",
    "tiers = ['I', 'II', 'III', 'IV']"
   ]
  },
  {
   "cell_type": "code",
   "execution_count": 7,
   "metadata": {},
   "outputs": [
    {
     "name": "stdout",
     "output_type": "stream",
     "text": [
      "Current rank DIAMOND I\n",
      "Appending to summoner_data_DIAMOND_I.parquet\n",
      "Current rank DIAMOND II\n",
      "Appending to summoner_data_DIAMOND_II.parquet\n",
      "Current rank DIAMOND III\n",
      "Appending to summoner_data_DIAMOND_III.parquet\n",
      "Current rank DIAMOND IV\n"
     ]
    },
    {
     "ename": "KeyboardInterrupt",
     "evalue": "",
     "output_type": "error",
     "traceback": [
      "\u001b[0;31m---------------------------------------------------------------------------\u001b[0m",
      "\u001b[0;31mKeyboardInterrupt\u001b[0m                         Traceback (most recent call last)",
      "Cell \u001b[0;32mIn[7], line 29\u001b[0m\n\u001b[1;32m     26\u001b[0m f\u001b[39m.\u001b[39mwrite(tier \u001b[39m+\u001b[39m \u001b[39m'\u001b[39m\u001b[39m: \u001b[39m\u001b[39m'\u001b[39m)\n\u001b[1;32m     27\u001b[0m \u001b[39mfor\u001b[39;00m start_page \u001b[39min\u001b[39;00m \u001b[39mrange\u001b[39m(first_page, max_pages \u001b[39m+\u001b[39m \u001b[39m1\u001b[39m, page_increments):\n\u001b[1;32m     28\u001b[0m     \u001b[39m# get the summoner id data\u001b[39;00m\n\u001b[0;32m---> 29\u001b[0m     df, more_data \u001b[39m=\u001b[39m get_summoner_ids(\u001b[39m'\u001b[39;49m\u001b[39mna1\u001b[39;49m\u001b[39m'\u001b[39;49m, rank, tier, start_page, page_increments)\n\u001b[1;32m     31\u001b[0m     \u001b[39m# save to the parquet\u001b[39;00m\n\u001b[1;32m     32\u001b[0m     fp \u001b[39m=\u001b[39m write_to_parquet(df)\n",
      "Cell \u001b[0;32mIn[3], line 32\u001b[0m, in \u001b[0;36mget_summoner_ids\u001b[0;34m(region, rank, division, start_page, num_pages)\u001b[0m\n\u001b[1;32m     29\u001b[0m \u001b[39mfor\u001b[39;00m page_num \u001b[39min\u001b[39;00m \u001b[39mrange\u001b[39m(start_page, start_page\u001b[39m+\u001b[39mnum_pages\u001b[39m+\u001b[39m\u001b[39m1\u001b[39m):\n\u001b[1;32m     30\u001b[0m     \u001b[39mtry\u001b[39;00m:\n\u001b[1;32m     31\u001b[0m         \u001b[39m# attempt to get a response\u001b[39;00m\n\u001b[0;32m---> 32\u001b[0m         response \u001b[39m=\u001b[39m lol_watcher\u001b[39m.\u001b[39;49mleague\u001b[39m.\u001b[39;49mentries(region, \u001b[39m'\u001b[39;49m\u001b[39mRANKED_SOLO_5x5\u001b[39;49m\u001b[39m'\u001b[39;49m, rank, division, page_num)\n\u001b[1;32m     34\u001b[0m         \u001b[39m# if we don't get the expected number of summoners, we have probably reached the end of the catalog\u001b[39;00m\n\u001b[1;32m     35\u001b[0m         \u001b[39m# in another way, there are no more players in the rank and divison to get \u001b[39;00m\n\u001b[1;32m     36\u001b[0m         \u001b[39mif\u001b[39;00m \u001b[39mlen\u001b[39m(response) \u001b[39m<\u001b[39m EXPECTED_SUMMONERS_OUT:\n",
      "File \u001b[0;32m~/Repository/MOBA Recommender and Prediction/env/lib/python3.11/site-packages/riotwatcher/_apis/league_of_legends/LeagueApiV4.py:110\u001b[0m, in \u001b[0;36mLeagueApiV4.entries\u001b[0;34m(self, region, queue, tier, division, page)\u001b[0m\n\u001b[1;32m     98\u001b[0m \u001b[39mdef\u001b[39;00m \u001b[39mentries\u001b[39m(\u001b[39mself\u001b[39m, region: \u001b[39mstr\u001b[39m, queue: \u001b[39mstr\u001b[39m, tier: \u001b[39mstr\u001b[39m, division: \u001b[39mstr\u001b[39m, page: \u001b[39mint\u001b[39m \u001b[39m=\u001b[39m \u001b[39m1\u001b[39m):\n\u001b[1;32m     99\u001b[0m \u001b[39m    \u001b[39m\u001b[39m\"\"\"\u001b[39;00m\n\u001b[1;32m    100\u001b[0m \u001b[39m    Get all the league entries\u001b[39;00m\n\u001b[1;32m    101\u001b[0m \n\u001b[0;32m   (...)\u001b[0m\n\u001b[1;32m    108\u001b[0m \u001b[39m    :returns: Set[LeagueEntryDTO]\u001b[39;00m\n\u001b[1;32m    109\u001b[0m \u001b[39m    \"\"\"\u001b[39;00m\n\u001b[0;32m--> 110\u001b[0m     \u001b[39mreturn\u001b[39;00m \u001b[39mself\u001b[39;49m\u001b[39m.\u001b[39;49m_request_endpoint(\n\u001b[1;32m    111\u001b[0m         \u001b[39mself\u001b[39;49m\u001b[39m.\u001b[39;49mentries\u001b[39m.\u001b[39;49m\u001b[39m__name__\u001b[39;49m,\n\u001b[1;32m    112\u001b[0m         region,\n\u001b[1;32m    113\u001b[0m         LeagueApiV4Urls\u001b[39m.\u001b[39;49mentries,\n\u001b[1;32m    114\u001b[0m         queue\u001b[39m=\u001b[39;49mqueue,\n\u001b[1;32m    115\u001b[0m         tier\u001b[39m=\u001b[39;49mtier,\n\u001b[1;32m    116\u001b[0m         division\u001b[39m=\u001b[39;49mdivision,\n\u001b[1;32m    117\u001b[0m         page\u001b[39m=\u001b[39;49mpage,\n\u001b[1;32m    118\u001b[0m     )\n",
      "File \u001b[0;32m~/Repository/MOBA Recommender and Prediction/env/lib/python3.11/site-packages/riotwatcher/_apis/NamedEndpoint.py:36\u001b[0m, in \u001b[0;36mNamedEndpoint._request_endpoint\u001b[0;34m(self, method_name, region, endpoint, **kwargs)\u001b[0m\n\u001b[1;32m     26\u001b[0m \u001b[39m\u001b[39m\u001b[39m\"\"\"\u001b[39;00m\n\u001b[1;32m     27\u001b[0m \u001b[39mSends a request through the BaseApi instance provided, injecting the provided\u001b[39;00m\n\u001b[1;32m     28\u001b[0m \u001b[39mendpoint_name into the method call, so the caller doesn't have to.\u001b[39;00m\n\u001b[0;32m   (...)\u001b[0m\n\u001b[1;32m     33\u001b[0m \u001b[39m                            parameters\u001b[39;00m\n\u001b[1;32m     34\u001b[0m \u001b[39m\"\"\"\u001b[39;00m\n\u001b[1;32m     35\u001b[0m url, query \u001b[39m=\u001b[39m endpoint(platform\u001b[39m=\u001b[39mregion, \u001b[39m*\u001b[39m\u001b[39m*\u001b[39mkwargs)\n\u001b[0;32m---> 36\u001b[0m \u001b[39mreturn\u001b[39;00m \u001b[39mself\u001b[39;49m\u001b[39m.\u001b[39;49m_base_api\u001b[39m.\u001b[39;49mraw_request(\n\u001b[1;32m     37\u001b[0m     \u001b[39mself\u001b[39;49m\u001b[39m.\u001b[39;49m_endpoint_name, method_name, region, url, query\n\u001b[1;32m     38\u001b[0m )\n",
      "File \u001b[0;32m~/Repository/MOBA Recommender and Prediction/env/lib/python3.11/site-packages/riotwatcher/_apis/BaseApi.py:42\u001b[0m, in \u001b[0;36mBaseApi.raw_request\u001b[0;34m(self, endpoint_name, method_name, region, url, query_params)\u001b[0m\n\u001b[1;32m     39\u001b[0m     \u001b[39mif\u001b[39;00m \u001b[39mself\u001b[39m\u001b[39m.\u001b[39m_timeout \u001b[39mis\u001b[39;00m \u001b[39mnot\u001b[39;00m \u001b[39mNone\u001b[39;00m:\n\u001b[1;32m     40\u001b[0m         extra[\u001b[39m\"\u001b[39m\u001b[39mtimeout\u001b[39m\u001b[39m\"\u001b[39m] \u001b[39m=\u001b[39m \u001b[39mself\u001b[39m\u001b[39m.\u001b[39m_timeout\n\u001b[0;32m---> 42\u001b[0m     response \u001b[39m=\u001b[39m \u001b[39mself\u001b[39;49m\u001b[39m.\u001b[39;49m_session\u001b[39m.\u001b[39;49mget(\n\u001b[1;32m     43\u001b[0m         url,\n\u001b[1;32m     44\u001b[0m         params\u001b[39m=\u001b[39;49mquery_params,\n\u001b[1;32m     45\u001b[0m         headers\u001b[39m=\u001b[39;49m{\u001b[39m\"\u001b[39;49m\u001b[39mX-Riot-Token\u001b[39;49m\u001b[39m\"\u001b[39;49m: \u001b[39mself\u001b[39;49m\u001b[39m.\u001b[39;49mapi_key},\n\u001b[1;32m     46\u001b[0m         \u001b[39m*\u001b[39;49m\u001b[39m*\u001b[39;49mextra\n\u001b[1;32m     47\u001b[0m     )\n\u001b[1;32m     49\u001b[0m \u001b[39mif\u001b[39;00m \u001b[39mself\u001b[39m\u001b[39m.\u001b[39m_request_handlers \u001b[39mis\u001b[39;00m \u001b[39mnot\u001b[39;00m \u001b[39mNone\u001b[39;00m:\n\u001b[1;32m     50\u001b[0m     \u001b[39mfor\u001b[39;00m handler \u001b[39min\u001b[39;00m \u001b[39mself\u001b[39m\u001b[39m.\u001b[39m_request_handlers[early_ret_idx:\u001b[39mNone\u001b[39;00m:\u001b[39m-\u001b[39m\u001b[39m1\u001b[39m]:\n",
      "File \u001b[0;32m~/Repository/MOBA Recommender and Prediction/env/lib/python3.11/site-packages/requests/sessions.py:600\u001b[0m, in \u001b[0;36mSession.get\u001b[0;34m(self, url, **kwargs)\u001b[0m\n\u001b[1;32m    592\u001b[0m \u001b[39m\u001b[39m\u001b[39mr\u001b[39m\u001b[39m\"\"\"Sends a GET request. Returns :class:`Response` object.\u001b[39;00m\n\u001b[1;32m    593\u001b[0m \n\u001b[1;32m    594\u001b[0m \u001b[39m:param url: URL for the new :class:`Request` object.\u001b[39;00m\n\u001b[1;32m    595\u001b[0m \u001b[39m:param \\*\\*kwargs: Optional arguments that ``request`` takes.\u001b[39;00m\n\u001b[1;32m    596\u001b[0m \u001b[39m:rtype: requests.Response\u001b[39;00m\n\u001b[1;32m    597\u001b[0m \u001b[39m\"\"\"\u001b[39;00m\n\u001b[1;32m    599\u001b[0m kwargs\u001b[39m.\u001b[39msetdefault(\u001b[39m\"\u001b[39m\u001b[39mallow_redirects\u001b[39m\u001b[39m\"\u001b[39m, \u001b[39mTrue\u001b[39;00m)\n\u001b[0;32m--> 600\u001b[0m \u001b[39mreturn\u001b[39;00m \u001b[39mself\u001b[39;49m\u001b[39m.\u001b[39;49mrequest(\u001b[39m\"\u001b[39;49m\u001b[39mGET\u001b[39;49m\u001b[39m\"\u001b[39;49m, url, \u001b[39m*\u001b[39;49m\u001b[39m*\u001b[39;49mkwargs)\n",
      "File \u001b[0;32m~/Repository/MOBA Recommender and Prediction/env/lib/python3.11/site-packages/requests/sessions.py:587\u001b[0m, in \u001b[0;36mSession.request\u001b[0;34m(self, method, url, params, data, headers, cookies, files, auth, timeout, allow_redirects, proxies, hooks, stream, verify, cert, json)\u001b[0m\n\u001b[1;32m    582\u001b[0m send_kwargs \u001b[39m=\u001b[39m {\n\u001b[1;32m    583\u001b[0m     \u001b[39m\"\u001b[39m\u001b[39mtimeout\u001b[39m\u001b[39m\"\u001b[39m: timeout,\n\u001b[1;32m    584\u001b[0m     \u001b[39m\"\u001b[39m\u001b[39mallow_redirects\u001b[39m\u001b[39m\"\u001b[39m: allow_redirects,\n\u001b[1;32m    585\u001b[0m }\n\u001b[1;32m    586\u001b[0m send_kwargs\u001b[39m.\u001b[39mupdate(settings)\n\u001b[0;32m--> 587\u001b[0m resp \u001b[39m=\u001b[39m \u001b[39mself\u001b[39;49m\u001b[39m.\u001b[39;49msend(prep, \u001b[39m*\u001b[39;49m\u001b[39m*\u001b[39;49msend_kwargs)\n\u001b[1;32m    589\u001b[0m \u001b[39mreturn\u001b[39;00m resp\n",
      "File \u001b[0;32m~/Repository/MOBA Recommender and Prediction/env/lib/python3.11/site-packages/requests/sessions.py:701\u001b[0m, in \u001b[0;36mSession.send\u001b[0;34m(self, request, **kwargs)\u001b[0m\n\u001b[1;32m    698\u001b[0m start \u001b[39m=\u001b[39m preferred_clock()\n\u001b[1;32m    700\u001b[0m \u001b[39m# Send the request\u001b[39;00m\n\u001b[0;32m--> 701\u001b[0m r \u001b[39m=\u001b[39m adapter\u001b[39m.\u001b[39;49msend(request, \u001b[39m*\u001b[39;49m\u001b[39m*\u001b[39;49mkwargs)\n\u001b[1;32m    703\u001b[0m \u001b[39m# Total elapsed time of the request (approximately)\u001b[39;00m\n\u001b[1;32m    704\u001b[0m elapsed \u001b[39m=\u001b[39m preferred_clock() \u001b[39m-\u001b[39m start\n",
      "File \u001b[0;32m~/Repository/MOBA Recommender and Prediction/env/lib/python3.11/site-packages/requests/adapters.py:487\u001b[0m, in \u001b[0;36mHTTPAdapter.send\u001b[0;34m(self, request, stream, timeout, verify, cert, proxies)\u001b[0m\n\u001b[1;32m    484\u001b[0m     timeout \u001b[39m=\u001b[39m TimeoutSauce(connect\u001b[39m=\u001b[39mtimeout, read\u001b[39m=\u001b[39mtimeout)\n\u001b[1;32m    486\u001b[0m \u001b[39mtry\u001b[39;00m:\n\u001b[0;32m--> 487\u001b[0m     resp \u001b[39m=\u001b[39m conn\u001b[39m.\u001b[39;49murlopen(\n\u001b[1;32m    488\u001b[0m         method\u001b[39m=\u001b[39;49mrequest\u001b[39m.\u001b[39;49mmethod,\n\u001b[1;32m    489\u001b[0m         url\u001b[39m=\u001b[39;49murl,\n\u001b[1;32m    490\u001b[0m         body\u001b[39m=\u001b[39;49mrequest\u001b[39m.\u001b[39;49mbody,\n\u001b[1;32m    491\u001b[0m         headers\u001b[39m=\u001b[39;49mrequest\u001b[39m.\u001b[39;49mheaders,\n\u001b[1;32m    492\u001b[0m         redirect\u001b[39m=\u001b[39;49m\u001b[39mFalse\u001b[39;49;00m,\n\u001b[1;32m    493\u001b[0m         assert_same_host\u001b[39m=\u001b[39;49m\u001b[39mFalse\u001b[39;49;00m,\n\u001b[1;32m    494\u001b[0m         preload_content\u001b[39m=\u001b[39;49m\u001b[39mFalse\u001b[39;49;00m,\n\u001b[1;32m    495\u001b[0m         decode_content\u001b[39m=\u001b[39;49m\u001b[39mFalse\u001b[39;49;00m,\n\u001b[1;32m    496\u001b[0m         retries\u001b[39m=\u001b[39;49m\u001b[39mself\u001b[39;49m\u001b[39m.\u001b[39;49mmax_retries,\n\u001b[1;32m    497\u001b[0m         timeout\u001b[39m=\u001b[39;49mtimeout,\n\u001b[1;32m    498\u001b[0m         chunked\u001b[39m=\u001b[39;49mchunked,\n\u001b[1;32m    499\u001b[0m     )\n\u001b[1;32m    501\u001b[0m \u001b[39mexcept\u001b[39;00m (ProtocolError, \u001b[39mOSError\u001b[39;00m) \u001b[39mas\u001b[39;00m err:\n\u001b[1;32m    502\u001b[0m     \u001b[39mraise\u001b[39;00m \u001b[39mConnectionError\u001b[39;00m(err, request\u001b[39m=\u001b[39mrequest)\n",
      "File \u001b[0;32m~/Repository/MOBA Recommender and Prediction/env/lib/python3.11/site-packages/urllib3/connectionpool.py:703\u001b[0m, in \u001b[0;36mHTTPConnectionPool.urlopen\u001b[0;34m(self, method, url, body, headers, retries, redirect, assert_same_host, timeout, pool_timeout, release_conn, chunked, body_pos, **response_kw)\u001b[0m\n\u001b[1;32m    700\u001b[0m     \u001b[39mself\u001b[39m\u001b[39m.\u001b[39m_prepare_proxy(conn)\n\u001b[1;32m    702\u001b[0m \u001b[39m# Make the request on the httplib connection object.\u001b[39;00m\n\u001b[0;32m--> 703\u001b[0m httplib_response \u001b[39m=\u001b[39m \u001b[39mself\u001b[39;49m\u001b[39m.\u001b[39;49m_make_request(\n\u001b[1;32m    704\u001b[0m     conn,\n\u001b[1;32m    705\u001b[0m     method,\n\u001b[1;32m    706\u001b[0m     url,\n\u001b[1;32m    707\u001b[0m     timeout\u001b[39m=\u001b[39;49mtimeout_obj,\n\u001b[1;32m    708\u001b[0m     body\u001b[39m=\u001b[39;49mbody,\n\u001b[1;32m    709\u001b[0m     headers\u001b[39m=\u001b[39;49mheaders,\n\u001b[1;32m    710\u001b[0m     chunked\u001b[39m=\u001b[39;49mchunked,\n\u001b[1;32m    711\u001b[0m )\n\u001b[1;32m    713\u001b[0m \u001b[39m# If we're going to release the connection in ``finally:``, then\u001b[39;00m\n\u001b[1;32m    714\u001b[0m \u001b[39m# the response doesn't need to know about the connection. Otherwise\u001b[39;00m\n\u001b[1;32m    715\u001b[0m \u001b[39m# it will also try to release it and we'll have a double-release\u001b[39;00m\n\u001b[1;32m    716\u001b[0m \u001b[39m# mess.\u001b[39;00m\n\u001b[1;32m    717\u001b[0m response_conn \u001b[39m=\u001b[39m conn \u001b[39mif\u001b[39;00m \u001b[39mnot\u001b[39;00m release_conn \u001b[39melse\u001b[39;00m \u001b[39mNone\u001b[39;00m\n",
      "File \u001b[0;32m~/Repository/MOBA Recommender and Prediction/env/lib/python3.11/site-packages/urllib3/connectionpool.py:449\u001b[0m, in \u001b[0;36mHTTPConnectionPool._make_request\u001b[0;34m(self, conn, method, url, timeout, chunked, **httplib_request_kw)\u001b[0m\n\u001b[1;32m    444\u001b[0m             httplib_response \u001b[39m=\u001b[39m conn\u001b[39m.\u001b[39mgetresponse()\n\u001b[1;32m    445\u001b[0m         \u001b[39mexcept\u001b[39;00m \u001b[39mBaseException\u001b[39;00m \u001b[39mas\u001b[39;00m e:\n\u001b[1;32m    446\u001b[0m             \u001b[39m# Remove the TypeError from the exception chain in\u001b[39;00m\n\u001b[1;32m    447\u001b[0m             \u001b[39m# Python 3 (including for exceptions like SystemExit).\u001b[39;00m\n\u001b[1;32m    448\u001b[0m             \u001b[39m# Otherwise it looks like a bug in the code.\u001b[39;00m\n\u001b[0;32m--> 449\u001b[0m             six\u001b[39m.\u001b[39;49mraise_from(e, \u001b[39mNone\u001b[39;49;00m)\n\u001b[1;32m    450\u001b[0m \u001b[39mexcept\u001b[39;00m (SocketTimeout, BaseSSLError, SocketError) \u001b[39mas\u001b[39;00m e:\n\u001b[1;32m    451\u001b[0m     \u001b[39mself\u001b[39m\u001b[39m.\u001b[39m_raise_timeout(err\u001b[39m=\u001b[39me, url\u001b[39m=\u001b[39murl, timeout_value\u001b[39m=\u001b[39mread_timeout)\n",
      "File \u001b[0;32m<string>:3\u001b[0m, in \u001b[0;36mraise_from\u001b[0;34m(value, from_value)\u001b[0m\n",
      "File \u001b[0;32m~/Repository/MOBA Recommender and Prediction/env/lib/python3.11/site-packages/urllib3/connectionpool.py:444\u001b[0m, in \u001b[0;36mHTTPConnectionPool._make_request\u001b[0;34m(self, conn, method, url, timeout, chunked, **httplib_request_kw)\u001b[0m\n\u001b[1;32m    441\u001b[0m \u001b[39mexcept\u001b[39;00m \u001b[39mTypeError\u001b[39;00m:\n\u001b[1;32m    442\u001b[0m     \u001b[39m# Python 3\u001b[39;00m\n\u001b[1;32m    443\u001b[0m     \u001b[39mtry\u001b[39;00m:\n\u001b[0;32m--> 444\u001b[0m         httplib_response \u001b[39m=\u001b[39m conn\u001b[39m.\u001b[39;49mgetresponse()\n\u001b[1;32m    445\u001b[0m     \u001b[39mexcept\u001b[39;00m \u001b[39mBaseException\u001b[39;00m \u001b[39mas\u001b[39;00m e:\n\u001b[1;32m    446\u001b[0m         \u001b[39m# Remove the TypeError from the exception chain in\u001b[39;00m\n\u001b[1;32m    447\u001b[0m         \u001b[39m# Python 3 (including for exceptions like SystemExit).\u001b[39;00m\n\u001b[1;32m    448\u001b[0m         \u001b[39m# Otherwise it looks like a bug in the code.\u001b[39;00m\n\u001b[1;32m    449\u001b[0m         six\u001b[39m.\u001b[39mraise_from(e, \u001b[39mNone\u001b[39;00m)\n",
      "File \u001b[0;32m/Library/Frameworks/Python.framework/Versions/3.11/lib/python3.11/http/client.py:1374\u001b[0m, in \u001b[0;36mHTTPConnection.getresponse\u001b[0;34m(self)\u001b[0m\n\u001b[1;32m   1372\u001b[0m \u001b[39mtry\u001b[39;00m:\n\u001b[1;32m   1373\u001b[0m     \u001b[39mtry\u001b[39;00m:\n\u001b[0;32m-> 1374\u001b[0m         response\u001b[39m.\u001b[39;49mbegin()\n\u001b[1;32m   1375\u001b[0m     \u001b[39mexcept\u001b[39;00m \u001b[39mConnectionError\u001b[39;00m:\n\u001b[1;32m   1376\u001b[0m         \u001b[39mself\u001b[39m\u001b[39m.\u001b[39mclose()\n",
      "File \u001b[0;32m/Library/Frameworks/Python.framework/Versions/3.11/lib/python3.11/http/client.py:318\u001b[0m, in \u001b[0;36mHTTPResponse.begin\u001b[0;34m(self)\u001b[0m\n\u001b[1;32m    316\u001b[0m \u001b[39m# read until we get a non-100 response\u001b[39;00m\n\u001b[1;32m    317\u001b[0m \u001b[39mwhile\u001b[39;00m \u001b[39mTrue\u001b[39;00m:\n\u001b[0;32m--> 318\u001b[0m     version, status, reason \u001b[39m=\u001b[39m \u001b[39mself\u001b[39;49m\u001b[39m.\u001b[39;49m_read_status()\n\u001b[1;32m    319\u001b[0m     \u001b[39mif\u001b[39;00m status \u001b[39m!=\u001b[39m CONTINUE:\n\u001b[1;32m    320\u001b[0m         \u001b[39mbreak\u001b[39;00m\n",
      "File \u001b[0;32m/Library/Frameworks/Python.framework/Versions/3.11/lib/python3.11/http/client.py:279\u001b[0m, in \u001b[0;36mHTTPResponse._read_status\u001b[0;34m(self)\u001b[0m\n\u001b[1;32m    278\u001b[0m \u001b[39mdef\u001b[39;00m \u001b[39m_read_status\u001b[39m(\u001b[39mself\u001b[39m):\n\u001b[0;32m--> 279\u001b[0m     line \u001b[39m=\u001b[39m \u001b[39mstr\u001b[39m(\u001b[39mself\u001b[39m\u001b[39m.\u001b[39mfp\u001b[39m.\u001b[39mreadline(_MAXLINE \u001b[39m+\u001b[39m \u001b[39m1\u001b[39m), \u001b[39m\"\u001b[39m\u001b[39miso-8859-1\u001b[39m\u001b[39m\"\u001b[39m)\n\u001b[1;32m    280\u001b[0m     \u001b[39mif\u001b[39;00m \u001b[39mlen\u001b[39m(line) \u001b[39m>\u001b[39m _MAXLINE:\n\u001b[1;32m    281\u001b[0m         \u001b[39mraise\u001b[39;00m LineTooLong(\u001b[39m\"\u001b[39m\u001b[39mstatus line\u001b[39m\u001b[39m\"\u001b[39m)\n",
      "File \u001b[0;32m/Library/Frameworks/Python.framework/Versions/3.11/lib/python3.11/socket.py:706\u001b[0m, in \u001b[0;36mSocketIO.readinto\u001b[0;34m(self, b)\u001b[0m\n\u001b[1;32m    704\u001b[0m \u001b[39mwhile\u001b[39;00m \u001b[39mTrue\u001b[39;00m:\n\u001b[1;32m    705\u001b[0m     \u001b[39mtry\u001b[39;00m:\n\u001b[0;32m--> 706\u001b[0m         \u001b[39mreturn\u001b[39;00m \u001b[39mself\u001b[39;49m\u001b[39m.\u001b[39;49m_sock\u001b[39m.\u001b[39;49mrecv_into(b)\n\u001b[1;32m    707\u001b[0m     \u001b[39mexcept\u001b[39;00m timeout:\n\u001b[1;32m    708\u001b[0m         \u001b[39mself\u001b[39m\u001b[39m.\u001b[39m_timeout_occurred \u001b[39m=\u001b[39m \u001b[39mTrue\u001b[39;00m\n",
      "File \u001b[0;32m/Library/Frameworks/Python.framework/Versions/3.11/lib/python3.11/ssl.py:1278\u001b[0m, in \u001b[0;36mSSLSocket.recv_into\u001b[0;34m(self, buffer, nbytes, flags)\u001b[0m\n\u001b[1;32m   1274\u001b[0m     \u001b[39mif\u001b[39;00m flags \u001b[39m!=\u001b[39m \u001b[39m0\u001b[39m:\n\u001b[1;32m   1275\u001b[0m         \u001b[39mraise\u001b[39;00m \u001b[39mValueError\u001b[39;00m(\n\u001b[1;32m   1276\u001b[0m           \u001b[39m\"\u001b[39m\u001b[39mnon-zero flags not allowed in calls to recv_into() on \u001b[39m\u001b[39m%s\u001b[39;00m\u001b[39m\"\u001b[39m \u001b[39m%\u001b[39m\n\u001b[1;32m   1277\u001b[0m           \u001b[39mself\u001b[39m\u001b[39m.\u001b[39m\u001b[39m__class__\u001b[39m)\n\u001b[0;32m-> 1278\u001b[0m     \u001b[39mreturn\u001b[39;00m \u001b[39mself\u001b[39;49m\u001b[39m.\u001b[39;49mread(nbytes, buffer)\n\u001b[1;32m   1279\u001b[0m \u001b[39melse\u001b[39;00m:\n\u001b[1;32m   1280\u001b[0m     \u001b[39mreturn\u001b[39;00m \u001b[39msuper\u001b[39m()\u001b[39m.\u001b[39mrecv_into(buffer, nbytes, flags)\n",
      "File \u001b[0;32m/Library/Frameworks/Python.framework/Versions/3.11/lib/python3.11/ssl.py:1134\u001b[0m, in \u001b[0;36mSSLSocket.read\u001b[0;34m(self, len, buffer)\u001b[0m\n\u001b[1;32m   1132\u001b[0m \u001b[39mtry\u001b[39;00m:\n\u001b[1;32m   1133\u001b[0m     \u001b[39mif\u001b[39;00m buffer \u001b[39mis\u001b[39;00m \u001b[39mnot\u001b[39;00m \u001b[39mNone\u001b[39;00m:\n\u001b[0;32m-> 1134\u001b[0m         \u001b[39mreturn\u001b[39;00m \u001b[39mself\u001b[39;49m\u001b[39m.\u001b[39;49m_sslobj\u001b[39m.\u001b[39;49mread(\u001b[39mlen\u001b[39;49m, buffer)\n\u001b[1;32m   1135\u001b[0m     \u001b[39melse\u001b[39;00m:\n\u001b[1;32m   1136\u001b[0m         \u001b[39mreturn\u001b[39;00m \u001b[39mself\u001b[39m\u001b[39m.\u001b[39m_sslobj\u001b[39m.\u001b[39mread(\u001b[39mlen\u001b[39m)\n",
      "\u001b[0;31mKeyboardInterrupt\u001b[0m: "
     ]
    }
   ],
   "source": [
    "# get pages 1 to 10,000\n",
    "page_increments = 20\n",
    "max_pages = 1_000\n",
    "first_page = 21\n",
    "region = 'na1'\n",
    "\n",
    "# txt file to save how far we got for each rank\n",
    "f = open('/Users/ethanshapiro/Repository/MOBA Recommender and Prediction/data/puuids/progress.txt', 'w+')\n",
    "\n",
    "# Create a listener for key press events\n",
    "listener = keyboard.Listener(on_press=on_press)\n",
    "\n",
    "# Start listening for key presses\n",
    "listener.start()\n",
    "\n",
    "for rank in ranks:\n",
    "    # Check if the stop flag is True\n",
    "    if stop_flag:\n",
    "        # Close the file\n",
    "        f.close()\n",
    "        # Stop the listener\n",
    "        listener.stop()\n",
    "        # Exit the loop and stop the code\n",
    "        break\n",
    "    f.write(rank + '\\n')\n",
    "    for tier in tiers:\n",
    "        f.write(tier + ': ')\n",
    "        for start_page in range(first_page, max_pages + 1, page_increments):\n",
    "            # get the summoner id data\n",
    "            df, more_data = get_summoner_ids('na1', rank, tier, start_page, page_increments)\n",
    "            \n",
    "            # save to the parquet\n",
    "            fp = write_to_parquet(df)\n",
    "\n",
    "            # write the current page we completed\n",
    "            f.write(str(start_page) + ', ')\n",
    "\n",
    "            # if there isn't more data, we can break\n",
    "            if not more_data:\n",
    "                break\n",
    "        f.write('\\n')\n",
    "f.close()\n",
    "\n",
    "if not stop_flag:\n",
    "    f.write('\\n')"
   ]
  },
  {
   "cell_type": "code",
   "execution_count": 2,
   "metadata": {},
   "outputs": [],
   "source": [
    "df = pd.read_parquet('../data/raw_data/summoner_data_PLATINUM_IV.parquet', columns=['summonerId'])"
   ]
  },
  {
   "cell_type": "code",
   "execution_count": 3,
   "metadata": {},
   "outputs": [
    {
     "data": {
      "text/plain": [
       "(57610, 1)"
      ]
     },
     "execution_count": 3,
     "metadata": {},
     "output_type": "execute_result"
    }
   ],
   "source": [
    "     "
   ]
  },
  {
   "cell_type": "code",
   "execution_count": null,
   "metadata": {},
   "outputs": [],
   "source": []
  }
 ],
 "metadata": {
  "kernelspec": {
   "display_name": "env",
   "language": "python",
   "name": "python3"
  },
  "language_info": {
   "codemirror_mode": {
    "name": "ipython",
    "version": 3
   },
   "file_extension": ".py",
   "mimetype": "text/x-python",
   "name": "python",
   "nbconvert_exporter": "python",
   "pygments_lexer": "ipython3",
   "version": "3.10.1"
  },
  "orig_nbformat": 4
 },
 "nbformat": 4,
 "nbformat_minor": 2
}
