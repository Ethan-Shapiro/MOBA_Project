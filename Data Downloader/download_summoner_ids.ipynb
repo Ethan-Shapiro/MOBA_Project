{
 "cells": [
  {
   "attachments": {},
   "cell_type": "markdown",
   "metadata": {},
   "source": [
    "This notebook downloads summoner IDs for a given rank, division, and region."
   ]
  },
  {
   "cell_type": "code",
   "execution_count": 45,
   "metadata": {},
   "outputs": [],
   "source": [
    "# IMPORTS\n",
    "import requests\n",
    "import numpy as np\n",
    "import time\n",
    "import pandas as pd\n",
    "import os\n",
    "import datetime\n",
    "from io import TextIOWrapper\n",
    "from fastparquet import write\n",
    "from pandas import DataFrame"
   ]
  },
  {
   "cell_type": "code",
   "execution_count": 38,
   "metadata": {},
   "outputs": [],
   "source": [
    "API_KEY = os.getenv('RIOT_API_KEY')\n",
    "API_KEY = 'RGAPI-295e93e6-ce21-4551-89e3-dfc11ebb5b14'"
   ]
  },
  {
   "cell_type": "code",
   "execution_count": 42,
   "metadata": {},
   "outputs": [],
   "source": [
    "def get_summoner_ids(region: str, rank: str, division: str, num_pages=4) -> DataFrame:\n",
    "    \"\"\"\n",
    "    Gets random summoner ids from North America from the various ranks (Diamond:Platinum:Gold:Silver:Bronze)\n",
    "    Returns a pandas dictionary only with summoner ids that have wins + losses >= 20\n",
    "    Args:\n",
    "        region (str): The region we want to search in\n",
    "        rank (str): The rank we want to get from\n",
    "        division (str): The divions we want to get from\n",
    "        num_pages (int, optional): An amount of summoner ids to get, a group of 204 are a 'page'. Defaults to 4.\n",
    "\n",
    "    Returns:\n",
    "        bool: Whether getting the summoner ids was successful\n",
    "    \"\"\"\n",
    "    print(f\"Current rank {rank} {division}\")\n",
    "    df = pd.DataFrame(columns=['leagueId',\n",
    "                               'queueType',\n",
    "                               'tier',\n",
    "                               'rank',\n",
    "                               'summonerId',\n",
    "                               'summonerName',\n",
    "                               'leaguePoints',\n",
    "                               'wins',\n",
    "                               'losses',\n",
    "                               'veteran',\n",
    "                               'inactive',\n",
    "                               'freshBlood',\n",
    "                               'hotStreak'])\n",
    "    for page_num in range(1, num_pages+1):\n",
    "        URL = f'https://{region}.api.riotgames.com/lol/league/v4/entries/RANKED_SOLO_5x5/{rank}/{division}/?page={page_num}&api_key={API_KEY}'\n",
    "        response = requests.get(URL)\n",
    "        for summoner in response.json():\n",
    "            # We only take people with greater than or equal to 20 combined wins and losses\n",
    "            if summoner['wins'] + summoner['losses'] >= 20:\n",
    "               df = pd.concat([df, pd.DataFrame.from_records(summoner, index=[0])], ignore_index=True)\n",
    "    return df"
   ]
  },
  {
   "cell_type": "code",
   "execution_count": 43,
   "metadata": {},
   "outputs": [
    {
     "name": "stdout",
     "output_type": "stream",
     "text": [
      "Current rank DIAMOND II\n",
      "205\n"
     ]
    }
   ],
   "source": [
    "df = get_summoner_ids('na1', 'DIAMOND', 'II', 1)"
   ]
  },
  {
   "cell_type": "code",
   "execution_count": 57,
   "metadata": {},
   "outputs": [],
   "source": [
    "def write_to_parquet(df: DataFrame) -> str:\n",
    "    DIRECTORY_PATH = '/Users/ethanshapiro/Repository/Esports Scripts/MOBA Recommender and Prediction/data/raw_data/'\n",
    "    date_str = str(datetime.datetime.today()).split()[0]\n",
    "    file_name = f'{date_str}_{df.loc[0, \"tier\"]}_{df.loc[0, \"rank\"]}.parquet'\n",
    "    file_path = DIRECTORY_PATH + file_name\n",
    "    if not os.path.isfile(file_path):\n",
    "        write(file_path, df)\n",
    "    else:\n",
    "        write(file_path, df, append=True)\n",
    "    return file_path"
   ]
  },
  {
   "cell_type": "code",
   "execution_count": 59,
   "metadata": {},
   "outputs": [],
   "source": [
    "new_file = write_to_parquet(df)"
   ]
  },
  {
   "cell_type": "code",
   "execution_count": null,
   "metadata": {},
   "outputs": [],
   "source": [
    "regions = ['na1', 'kr', 'euw1']\n",
    "ranks = ['DIAMOND', 'PLATINUM']\n",
    "tiers = ['I', 'II', 'III', 'IV']"
   ]
  }
 ],
 "metadata": {
  "kernelspec": {
   "display_name": "env",
   "language": "python",
   "name": "python3"
  },
  "language_info": {
   "codemirror_mode": {
    "name": "ipython",
    "version": 3
   },
   "file_extension": ".py",
   "mimetype": "text/x-python",
   "name": "python",
   "nbconvert_exporter": "python",
   "pygments_lexer": "ipython3",
   "version": "3.11.1"
  },
  "orig_nbformat": 4
 },
 "nbformat": 4,
 "nbformat_minor": 2
}
